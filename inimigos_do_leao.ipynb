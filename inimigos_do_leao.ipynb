{
  "nbformat": 4,
  "nbformat_minor": 0,
  "metadata": {
    "colab": {
      "provenance": [],
      "include_colab_link": true
    },
    "kernelspec": {
      "name": "python3",
      "display_name": "Python 3"
    },
    "language_info": {
      "name": "python"
    }
  },
  "cells": [
    {
      "cell_type": "markdown",
      "metadata": {
        "id": "view-in-github",
        "colab_type": "text"
      },
      "source": [
        "<a href=\"https://colab.research.google.com/github/abasilio91/inimigos-do-leao/blob/main/inimigos_do_leao.ipynb\" target=\"_parent\"><img src=\"https://colab.research.google.com/assets/colab-badge.svg\" alt=\"Open In Colab\"/></a>"
      ]
    },
    {
      "cell_type": "code",
      "execution_count": null,
      "metadata": {
        "id": "CS-pergjWeb4"
      },
      "outputs": [],
      "source": [
        "import datetime\n",
        "import json\n",
        "from functools import reduce"
      ]
    },
    {
      "cell_type": "code",
      "source": [
        "# Mock do que o usuário deve informar para receita\n",
        "nova_entrada = {\n",
        "    \"arquivo\": \"adam-financas\",\n",
        "    \"movimentacao\": \"receita\",\n",
        "    \"valor\": 1000.00 # em reais\n",
        "}\n",
        "\n",
        "# Mock da saída que deve ser salva no arquivo para receita\n",
        "nova_entrada = {\n",
        "    \"id\": \"idsk-1830-Dhi9-18jW\",\n",
        "    \"movimentacao\": \"receita\",\n",
        "    \"valor\": 1000.00, # em reais\n",
        "    \"data\": datetime.datetime(2023, 11, 14, 1, 43, 59, 442180), # datetime.datetime.now()\n",
        "    \"dia\": 14, # datetime.datetime.now().day\n",
        "    \"mes\": 10, # datetime.datetime.now().month\n",
        "    \"ano\": 2023, # datetime.datetime.now().year\n",
        "    'status': \"ativo\" # manter o status entre \"ativo\" e \"deletado\" preserva o histórico de transações\n",
        "}\n",
        "\n",
        "# Mock do que o usuário deve informar para despesa\n",
        "nova_entrada = {\n",
        "    \"arquivo\": \"adam-financas\",\n",
        "    \"movimentacao\": \"despesa\",\n",
        "    \"valor\": 1000.00 # em reais\n",
        "}\n",
        "\n",
        "# Mock da saída que deve ser salva no arquivo para despesa\n",
        "nova_entrada = {\n",
        "    'id': \"73j8-1273-a18h-Ah3y\",\n",
        "    \"movimentacao\": \"despesa\",\n",
        "    \"valor\": -1000.00, # em reais\n",
        "    \"data\": datetime.datetime(2023, 11, 14, 1, 43, 59, 442180), # datetime.datetime.now()\n",
        "    \"dia\": 14, # datetime.datetime.now().day\n",
        "    \"mes\": 10, # datetime.datetime.now().month\n",
        "    \"ano\": 2023, # datetime.datetime.now().year\n",
        "    \"status\": \"ativo\"\n",
        "}\n",
        "\n",
        "# Mock do que o usuário deve informar para investimento\n",
        "nova_entrada = {\n",
        "    \"arquivo\": \"adam-financas\",\n",
        "    \"movimentacao\": \"investimento\",\n",
        "    \"valor\": 1000.00, # em reais\n",
        "    \"taxa_de_investimento\": 0.5, # em porcentagem, em dias (se tiver tempo, considerar a liquidez)\n",
        "    \"tipo_de_investimento\": \"bolsa de valores\"\n",
        "}\n",
        "\n",
        "# Mock da saída que deve ser salva no arquivo para invesimento\n",
        "nova_entrada = {\n",
        "    \"id\": \"id17-ahj1-Akj1-17hM\",\n",
        "    \"movimentacao\": \"investimento\",\n",
        "    \"local_do_investimento\": \"bolsa de valores\",\n",
        "    \"valor\": 1000.00, # em reais\n",
        "    \"data\": datetime.datetime(2023, 11, 14, 1, 43, 59, 442180), # datetime.datetime.now()\n",
        "    \"dia\": 14, # datetime.datetime.now().day\n",
        "    \"mes\": 10, # datetime.datetime.now().month\n",
        "    \"ano\": 2023, # datetime.datetime.now().year\n",
        "    \"tempo_decorrido\": 32,# datetime.datetime.now().date() - 'dia' # em dias\n",
        "    \"valor_atual\": 1020.00, # exemplo, deve ser calculada por \"M=C(1+i)^t\"\n",
        "    \"status\": \"ativo\"\n",
        "}\n",
        "\n",
        "# Mock da saída que deve ser salva no arquivo quando deletado\n",
        "nova_entrada = {\n",
        "    \"id\": \"idsk-1830-Dhi9-18jW\",\n",
        "    \"movimentacao\": \"receita\",\n",
        "    \"valor\": 1000.00, # em reais\n",
        "    \"data\": datetime.datetime(2023, 11, 14, 1, 43, 59, 442180), # datetime.datetime.now()\n",
        "    \"dia\": 14, # datetime.datetime.now().day\n",
        "    \"mes\": 10, # datetime.datetime.now().month\n",
        "    \"ano\": 2023, # datetime.datetime.now().year\n",
        "    'status': \"deleted\" # preserva o histórico de\n",
        "}"
      ],
      "metadata": {
        "id": "9MJIgF5uWoMK"
      },
      "execution_count": null,
      "outputs": []
    },
    {
      "cell_type": "code",
      "source": [
        "# Mock do status da conta\n",
        "{\n",
        "    \"arquivo\": \"financas_status\", # aquivo vinculado à conta\n",
        "    \"saldo atual\": 1000, # exemplo - deve ser calculado considerando as movimentações\n",
        "    \"saldo_previsto_para\": { # exemplo, deve ser calculado considerando os investimentos\n",
        "        \"30 dias\": 1680.00,\n",
        "        \"6 meses\": 1780.00,\n",
        "        \"1 ano\": 1890.00\n",
        "    }\n",
        "}"
      ],
      "metadata": {
        "id": "VbMlSbSLWpOb"
      },
      "execution_count": null,
      "outputs": []
    },
    {
      "cell_type": "code",
      "source": [
        "# Criar novos registros e identificar a data que o registro foi feito, qual tipo de movimentação, valor.\n",
        "\n",
        "def new_file(title: str=\"financas\"):\n",
        "  open(f'{title}.json','x')\n",
        "  open(f'{title}_status.json','x')\n",
        "\n",
        "def new_entry():\n",
        "  parametros = []\n",
        "\n",
        "  opcao = int(input(\"\"\"Digite o tipo de movimentação:\n",
        "  1 - Receita\n",
        "  2 - Despesa\n",
        "  3 - Investimento\n",
        "\n",
        "  Opção: \"\"\"))\n",
        "\n",
        "  if opcao not in (1,2,3):\n",
        "    print(\"Opção inválida.\\n\\n\")\n",
        "\n",
        "  valor = float(input(\"Informe o valor: \"))\n",
        "  parametros.append(valor)\n",
        "\n",
        "  if opcao == 3:\n",
        "    taxa = float(input(\"Informe a taxa de rendimento (em porcentagem): \"))\n",
        "    parametros.append(taxa)\n",
        "\n",
        "  acao = {\n",
        "      1: new_income,\n",
        "      2: new_expense,\n",
        "      3: new_investiment\n",
        "  }\n",
        "\n",
        "  info = acao[opcao](parametros)\n",
        "  info = json.dumps(info, indent=2)\n",
        "\n",
        "  with open('financas.json','a') as file:\n",
        "    file.write(f'{str(info)},\\n')\n",
        "\n",
        "def update_entry():\n",
        "  pass\n",
        "\n",
        "def delete_entry():\n",
        "  pass\n",
        "\n",
        "def get_entry():\n",
        "  pass\n",
        "\n",
        "def report():\n",
        "  pass\n",
        "\n",
        "def new_income(value):\n",
        "  return {\n",
        "    \"id\": make_id(),\n",
        "    \"status\": \"ativo\",\n",
        "    \"movimentacao\": \"receita\",\n",
        "    \"valor\": value,\n",
        "    \"data\": datetime.datetime.strftime(datetime.datetime.now(), \"%Y-%m-%d %H:%M:%S.%f\"),\n",
        "    \"dia\": datetime.datetime.now().day,\n",
        "    \"mes\": datetime.datetime.now().month,\n",
        "    \"ano\": datetime.datetime.now().year\n",
        "  }\n",
        "\n",
        "def new_expense(value):\n",
        "  pass\n",
        "\n",
        "def new_investiment(value, interest):\n",
        "  pass\n",
        "\n",
        "def make_id():\n",
        "  date = datetime.datetime.strftime(datetime.datetime.now(),\"%Y,%m,%d,%H,%M,%S,%f\")\n",
        "  date = list(date.split(sep=\",\"))\n",
        "\n",
        "  digito_1 = reduce(lambda x,y: int(x)+int(y),date) % 10\n",
        "  digito_2 = reduce(lambda x,y: int(x)**2+int(y)**2,date) % 10\n",
        "\n",
        "  concat_value = digito_1*10 + digito_2\n",
        "  id = date[:3]\n",
        "  id.append(str(concat_value))\n",
        "  id = ''.join(id)\n",
        "  return id"
      ],
      "metadata": {
        "id": "ELJrj-9aWqU4"
      },
      "execution_count": null,
      "outputs": []
    },
    {
      "cell_type": "code",
      "source": [
        "def main():\n",
        "\n",
        "  while True:\n",
        "    opcao = int(input(\"\"\"O que deseja fazer?\n",
        "    1: Nova movimentação\n",
        "    2: Atualizar movimentação\n",
        "    3: Deletar movimentação\n",
        "    4: Ver movimentações\n",
        "    5: Gerar relatório\n",
        "    0: Encerrar\n",
        "\n",
        "    Opção: \"\"\"))\n",
        "\n",
        "    if opcao not in (1,2,3,4,5,0):\n",
        "      print(\"Opção invalida.\\n\\n\")\n",
        "      continue\n",
        "\n",
        "    if opcao == 0:\n",
        "      print(\"Operação encerrada pelo usuário.\\n\\n\")\n",
        "      break\n",
        "\n",
        "    acao = {\n",
        "        1: new_entry,\n",
        "        2: update_entry,\n",
        "        3: delete_entry,\n",
        "        4: get_entry,\n",
        "        5: report\n",
        "    }\n",
        "\n",
        "    acao[opcao]()"
      ],
      "metadata": {
        "id": "TbKcU-thYmKw"
      },
      "execution_count": null,
      "outputs": []
    },
    {
      "cell_type": "code",
      "source": [
        "new_file()"
      ],
      "metadata": {
        "id": "RQpUUREh0vB8"
      },
      "execution_count": null,
      "outputs": []
    },
    {
      "cell_type": "code",
      "source": [
        "if __name__ == \"__main__\":\n",
        "  main()"
      ],
      "metadata": {
        "id": "0xGMZ60zulM0",
        "outputId": "152976c2-871e-418c-eb9c-70a28534900e",
        "colab": {
          "base_uri": "https://localhost:8080/"
        }
      },
      "execution_count": null,
      "outputs": [
        {
          "output_type": "stream",
          "name": "stdout",
          "text": [
            "O que deseja fazer?\n",
            "    1: Nova movimentação\n",
            "    2: Atualizar movimentação\n",
            "    3: Deletar movimentação\n",
            "    4: Ver movimentações\n",
            "    5: Gerar relatório\n",
            "    0: Encerrar\n",
            "\n",
            "    Opção: 1\n",
            "Digite o tipo de movimentação:\n",
            "  1 - Receita\n",
            "  2 - Despesa\n",
            "  3 - Investimento\n",
            "\n",
            "  Opção: 1\n",
            "Informe o valor: 1500\n",
            "O que deseja fazer?\n",
            "    1: Nova movimentação\n",
            "    2: Atualizar movimentação\n",
            "    3: Deletar movimentação\n",
            "    4: Ver movimentações\n",
            "    5: Gerar relatório\n",
            "    0: Encerrar\n",
            "\n",
            "    Opção: 0\n",
            "Operação encerrada pelo usuário.\n",
            "\n",
            "\n"
          ]
        }
      ]
    }
  ]
}